{
 "cells": [
  {
   "cell_type": "code",
   "execution_count": 1,
   "id": "11794164",
   "metadata": {},
   "outputs": [],
   "source": [
    "# Intialization\n",
    "import os\n",
    "import sys\n",
    "\n",
    "os.environ[\"SPARK_HOME\"] = \"/home/talentum/spark\"\n",
    "os.environ[\"PYLIB\"] = os.environ[\"SPARK_HOME\"] + \"/python/lib\"\n",
    "# In below two lines, use /usr/bin/python2.7 if you want to use Python 2\n",
    "os.environ[\"PYSPARK_PYTHON\"] = \"/usr/bin/python3.6\" \n",
    "os.environ[\"PYSPARK_DRIVER_PYTHON\"] = \"/usr/bin/python3\"\n",
    "sys.path.insert(0, os.environ[\"PYLIB\"] +\"/py4j-0.10.7-src.zip\")\n",
    "sys.path.insert(0, os.environ[\"PYLIB\"] +\"/pyspark.zip\")\n",
    "\n",
    "# NOTE: Whichever package you want mention here.\n",
    "# os.environ['PYSPARK_SUBMIT_ARGS'] = '--packages com.databricks:spark-xml_2.11:0.6.0 pyspark-shell' \n",
    "# os.environ['PYSPARK_SUBMIT_ARGS'] = '--packages org.apache.spark:spark-avro_2.11:2.4.0 pyspark-shell'\n",
    "os.environ['PYSPARK_SUBMIT_ARGS'] = '--packages com.databricks:spark-xml_2.11:0.6.0,org.apache.spark:spark-avro_2.11:2.4.3 pyspark-shell'\n",
    "# os.environ['PYSPARK_SUBMIT_ARGS'] = '--packages com.databricks:spark-xml_2.11:0.6.0,org.apache.spark:spark-avro_2.11:2.4.0 pyspark-shell'"
   ]
  },
  {
   "cell_type": "code",
   "execution_count": 2,
   "id": "1548a915",
   "metadata": {},
   "outputs": [],
   "source": [
    "#Entrypoint 2.x\n",
    "from pyspark.sql import SparkSession\n",
    "spark = SparkSession.builder.appName(\"Spark SQL basic example\").enableHiveSupport().getOrCreate()\n",
    "\n",
    "# On yarn:\n",
    "spark = SparkSession.builder.appName(\"Spark SQL basic example\").enableHiveSupport().master(\"yarn\").getOrCreate()\n",
    "#specify.master(\"yarn\")\n",
    "\n",
    "sc = spark.sparkContext"
   ]
  },
  {
   "cell_type": "code",
   "execution_count": 3,
   "id": "3d48025f",
   "metadata": {},
   "outputs": [
    {
     "name": "stdout",
     "output_type": "stream",
     "text": [
      "+------------+\n",
      "|databaseName|\n",
      "+------------+\n",
      "|     default|\n",
      "|     project|\n",
      "+------------+\n",
      "\n",
      "++\n",
      "||\n",
      "++\n",
      "++\n",
      "\n",
      "+--------+---------+-----------+\n",
      "|database|tableName|isTemporary|\n",
      "+--------+---------+-----------+\n",
      "| project|     cars|      false|\n",
      "+--------+---------+-----------+\n",
      "\n",
      " - \n",
      "+-----+----+-------+----------------+-----+-----------------+-----+------------+\n",
      "|price|year|mileage|            city|state|              vin| make|       model|\n",
      "+-----+----+-------+----------------+-----+-----------------+-----+------------+\n",
      "| null|null|   null|            City|State|              Vin| Make|       Model|\n",
      "| 8995|2014|  35725|         El Paso|   TX|19VDE2E53EE000083|Acura|  ILX6-Speed|\n",
      "|10888|2013|  19606|Long Island City|   NY|19VDE1F52DE012636|Acura|  ILX5-Speed|\n",
      "| 8995|2013|  48851|         El Paso|   TX|19VDE2E52DE000025|Acura|  ILX6-Speed|\n",
      "|10999|2014|  39922|         Windsor|   CO|19VDE1F71EE003817|Acura|  ILX5-Speed|\n",
      "|14799|2016|  22142|          Lindon|   UT|19UDE2F32GA001284|Acura|ILXAutomatic|\n",
      "| 7989|2012| 105246|           Miami|   FL|JH4CU2F83CC019895|Acura|TSXAutomatic|\n",
      "|14490|2014|  34032|       Greatneck|   NY|JH4CU2F84EC002686|Acura|  TSXSpecial|\n",
      "|13995|2013|  32384|     West Jordan|   UT|JH4CU2F64DC006203|Acura|  TSX5-Speed|\n",
      "|10495|2013|  57596|       Waterbury|   CT|19VDE2E50DE000234|Acura|  ILX6-Speed|\n",
      "| 9995|2013|  63887|         El Paso|   TX|19VDE1F50DE010450|Acura|  ILX5-Speed|\n",
      "|12921|2012|  58550|           Boise|   ID|JH4CU2F44CC003220|Acura|TSXAutomatic|\n",
      "|12000|2013|  40527|Long Island City|   NY|19VDE1F38DE020867|Acura|  ILX5-Speed|\n",
      "| 7750|2009|  91980|     San Antonio|   TX|JH4CU26639C015787|Acura|      TSX4dr|\n",
      "|17628|2015|  13797|           Fargo|   ND|19VDE1F38FE001240|Acura|  ILX5-Speed|\n",
      "|13999|2013|  35035|       Santa Ana|   CA|JH4CU2F4XDC000369|Acura|  TSX5-Speed|\n",
      "|14995|2014|  23454|    Hackettstown|   NJ|19VDE1F31EE009243|Acura|  ILX5-Speed|\n",
      "|14990|2015|  23603|        Freeport|   NY|19VDE1F3XFE007606|Acura|  ILX5-Speed|\n",
      "|14590|2010|  19250|      Clearwater|   FL|JH4CU2F6XAC041680|Acura|      TSX4dr|\n",
      "| 9500|2011|  68289|         Arcadia|   FL|JH4CU2F62BC007928|Acura|      TSX4dr|\n",
      "+-----+----+-------+----------------+-----+-----------------+-----+------------+\n",
      "only showing top 20 rows\n",
      "\n",
      "[Table(name='cars', database='project', description=None, tableType='EXTERNAL', isTemporary=False)]\n",
      "/user/hive/warehouse\n"
     ]
    }
   ],
   "source": [
    "# Here is the code for making connectivity to hive metastore from pyspark\n",
    "\n",
    "spark = spark.builder.master('yarn').config('spark.sql.warehouse.dir', '/user/hive/warehouse').config('hive.metastore.uris', 'thrift://localhost:9083').enableHiveSupport().getOrCreate()\n",
    "spark = spark.builder.master('yarn').enableHiveSupport().getOrCreate()\n",
    "spark.sql(\"show databases\").show()\n",
    "spark.sql(\"use project\").show()\n",
    "spark.sql(\"show tables\").show()\n",
    "print(\" - \")\n",
    "spark.table('cars').show()\n",
    "print(spark.catalog.listTables())\n",
    "print(spark.conf.get('spark.sql.warehouse.dir'))"
   ]
  },
  {
   "cell_type": "code",
   "execution_count": 4,
   "id": "ac771a26",
   "metadata": {},
   "outputs": [],
   "source": [
    "df=spark.read.table(\"cars\")"
   ]
  },
  {
   "cell_type": "code",
   "execution_count": 5,
   "id": "6e8a47f1",
   "metadata": {},
   "outputs": [
    {
     "data": {
      "text/plain": [
       "['price', 'year', 'mileage', 'city', 'state', 'vin', 'make', 'model']"
      ]
     },
     "execution_count": 5,
     "metadata": {},
     "output_type": "execute_result"
    }
   ],
   "source": [
    "df.columns"
   ]
  },
  {
   "cell_type": "code",
   "execution_count": 6,
   "id": "1e4feff0",
   "metadata": {},
   "outputs": [
    {
     "name": "stdout",
     "output_type": "stream",
     "text": [
      "+-----+----+-------+----------------+-----+-----------------+-----+------------+\n",
      "|price|year|mileage|            city|state|              vin| make|       model|\n",
      "+-----+----+-------+----------------+-----+-----------------+-----+------------+\n",
      "| null|null|   null|            City|State|              Vin| Make|       Model|\n",
      "| 8995|2014|  35725|         El Paso|   TX|19VDE2E53EE000083|Acura|  ILX6-Speed|\n",
      "|10888|2013|  19606|Long Island City|   NY|19VDE1F52DE012636|Acura|  ILX5-Speed|\n",
      "| 8995|2013|  48851|         El Paso|   TX|19VDE2E52DE000025|Acura|  ILX6-Speed|\n",
      "|10999|2014|  39922|         Windsor|   CO|19VDE1F71EE003817|Acura|  ILX5-Speed|\n",
      "|14799|2016|  22142|          Lindon|   UT|19UDE2F32GA001284|Acura|ILXAutomatic|\n",
      "| 7989|2012| 105246|           Miami|   FL|JH4CU2F83CC019895|Acura|TSXAutomatic|\n",
      "|14490|2014|  34032|       Greatneck|   NY|JH4CU2F84EC002686|Acura|  TSXSpecial|\n",
      "|13995|2013|  32384|     West Jordan|   UT|JH4CU2F64DC006203|Acura|  TSX5-Speed|\n",
      "|10495|2013|  57596|       Waterbury|   CT|19VDE2E50DE000234|Acura|  ILX6-Speed|\n",
      "| 9995|2013|  63887|         El Paso|   TX|19VDE1F50DE010450|Acura|  ILX5-Speed|\n",
      "|12921|2012|  58550|           Boise|   ID|JH4CU2F44CC003220|Acura|TSXAutomatic|\n",
      "|12000|2013|  40527|Long Island City|   NY|19VDE1F38DE020867|Acura|  ILX5-Speed|\n",
      "| 7750|2009|  91980|     San Antonio|   TX|JH4CU26639C015787|Acura|      TSX4dr|\n",
      "|17628|2015|  13797|           Fargo|   ND|19VDE1F38FE001240|Acura|  ILX5-Speed|\n",
      "|13999|2013|  35035|       Santa Ana|   CA|JH4CU2F4XDC000369|Acura|  TSX5-Speed|\n",
      "|14995|2014|  23454|    Hackettstown|   NJ|19VDE1F31EE009243|Acura|  ILX5-Speed|\n",
      "|14990|2015|  23603|        Freeport|   NY|19VDE1F3XFE007606|Acura|  ILX5-Speed|\n",
      "|14590|2010|  19250|      Clearwater|   FL|JH4CU2F6XAC041680|Acura|      TSX4dr|\n",
      "| 9500|2011|  68289|         Arcadia|   FL|JH4CU2F62BC007928|Acura|      TSX4dr|\n",
      "+-----+----+-------+----------------+-----+-----------------+-----+------------+\n",
      "only showing top 20 rows\n",
      "\n"
     ]
    }
   ],
   "source": [
    "df.show()"
   ]
  },
  {
   "cell_type": "code",
   "execution_count": 7,
   "id": "4c92d749",
   "metadata": {},
   "outputs": [],
   "source": [
    "cars_raw = df.sample(False, 0.65, seed=777)"
   ]
  },
  {
   "cell_type": "code",
   "execution_count": 8,
   "id": "d02c3d10",
   "metadata": {},
   "outputs": [],
   "source": [
    "df=cars_raw.drop(\"City\",\"State\",\"Vin\")"
   ]
  },
  {
   "cell_type": "code",
   "execution_count": 9,
   "id": "9bc2882a",
   "metadata": {},
   "outputs": [],
   "source": [
    "df=df.dropna()"
   ]
  },
  {
   "cell_type": "code",
   "execution_count": 10,
   "id": "4b5b57b9",
   "metadata": {},
   "outputs": [
    {
     "name": "stdout",
     "output_type": "stream",
     "text": [
      "+-----+----+-------+-----+------------+\n",
      "|price|year|mileage| make|       model|\n",
      "+-----+----+-------+-----+------------+\n",
      "| 8995|2013|  48851|Acura|  ILX6-Speed|\n",
      "|13995|2013|  32384|Acura|  TSX5-Speed|\n",
      "|10495|2013|  57596|Acura|  ILX6-Speed|\n",
      "|12921|2012|  58550|Acura|TSXAutomatic|\n",
      "|17628|2015|  13797|Acura|  ILX5-Speed|\n",
      "|13999|2013|  35035|Acura|  TSX5-Speed|\n",
      "|14995|2014|  23454|Acura|  ILX5-Speed|\n",
      "|14990|2015|  23603|Acura|  ILX5-Speed|\n",
      "|14590|2010|  19250|Acura|      TSX4dr|\n",
      "| 9500|2011|  68289|Acura|      TSX4dr|\n",
      "|16994|2015|  23946|Acura|  ILX5-Speed|\n",
      "|15499|2014|  27171|Acura|  TSX5-Speed|\n",
      "|13499|2014|  35037|Acura|  ILX5-Speed|\n",
      "|14999|2014|  17669|Acura|  ILX5-Speed|\n",
      "|14500|2010|  25926|Acura|      TSX4dr|\n",
      "|16000|2015|  30881|Acura|  ILX5-Speed|\n",
      "|17419|2015|  15390|Acura|  ILX5-Speed|\n",
      "|14999|2015|  27333|Acura|  ILX5-Speed|\n",
      "|14999|2015|  28326|Acura|  ILX5-Speed|\n",
      "|17000|2015|  24671|Acura|  ILX5-Speed|\n",
      "+-----+----+-------+-----+------------+\n",
      "only showing top 20 rows\n",
      "\n"
     ]
    }
   ],
   "source": [
    "df.show()"
   ]
  },
  {
   "cell_type": "code",
   "execution_count": 11,
   "id": "b7571c21",
   "metadata": {},
   "outputs": [
    {
     "name": "stdout",
     "output_type": "stream",
     "text": [
      "+-----+----+-------+-----+------------+\n",
      "|price|year|mileage| make|       model|\n",
      "+-----+----+-------+-----+------------+\n",
      "|13998|2010|  41652|Acura|      TSX4dr|\n",
      "|16750|2015|  57483|Acura|  ILX5-Speed|\n",
      "|16517|2015|  48918|Acura|  ILX5-Speed|\n",
      "|19968|2016|  31019|Acura|ILXAutomatic|\n",
      "|17384|2013|  35257|Acura|      TLBase|\n",
      "|14539|2012|  59046|Acura|       TL2WD|\n",
      "| 7995|2008|  78692|Acura|      RDX4WD|\n",
      "| 4988|2000| 109624|Acura| TLAutomatic|\n",
      "|22500|2014|  35341|Acura|       TL2WD|\n",
      "|15000|2011|  80442|Acura|      RDXFWD|\n",
      "|20190|2015|  31235|Acura|      TLXFWD|\n",
      "|23499|2014|  48194|Acura|    TLSH-AWD|\n",
      "|21800|2015|  32649|Acura|      TLXFWD|\n",
      "|27999|2016|  10398|Acura|      TLXFWD|\n",
      "|27749|2016|  15429|Acura|      TLXFWD|\n",
      "|25656|2015|  29778|Acura|      TLXFWD|\n",
      "|16734|2012|  77424|Acura|       TL2WD|\n",
      "|33990|2016|   7205|Acura|      RDXFWD|\n",
      "|24420|2013|  56175|Acura|     MDXwith|\n",
      "| 4499|2003| 184707|Acura| TLAutomatic|\n",
      "+-----+----+-------+-----+------------+\n",
      "only showing top 20 rows\n",
      "\n"
     ]
    }
   ],
   "source": [
    "df.dropDuplicates().show()"
   ]
  },
  {
   "cell_type": "code",
   "execution_count": 12,
   "id": "740df28e",
   "metadata": {},
   "outputs": [],
   "source": [
    "from pyspark.ml.linalg import Vector \n",
    "from pyspark.ml.feature import VectorAssembler "
   ]
  },
  {
   "cell_type": "code",
   "execution_count": 13,
   "id": "0b073c81",
   "metadata": {},
   "outputs": [
    {
     "data": {
      "text/plain": [
       "['price', 'year', 'mileage', 'make', 'model']"
      ]
     },
     "execution_count": 13,
     "metadata": {},
     "output_type": "execute_result"
    }
   ],
   "source": [
    "df.columns"
   ]
  },
  {
   "cell_type": "code",
   "execution_count": 16,
   "id": "a29d25a3",
   "metadata": {},
   "outputs": [],
   "source": [
    "# Preprocessing: StringIndexer for categorical labels\n",
    "\n",
    "from pyspark.ml.feature import StringIndexer\n",
    "\n",
    "\n",
    "stringIndexer1  = StringIndexer(inputCol=\"model\", outputCol=\"model_label\")\n",
    "\n",
    "\n",
    "model=stringIndexer1.fit(df)\n",
    "indexed1=model.transform(df)\n",
    "\n",
    "stringIndexer2  = StringIndexer(inputCol=\"make\", outputCol=\"make_label\")\n",
    "model2=stringIndexer2.fit(indexed1)\n",
    "indexed2=model2.transform(indexed1)"
   ]
  },
  {
   "cell_type": "code",
   "execution_count": 17,
   "id": "b864ba21",
   "metadata": {},
   "outputs": [],
   "source": [
    "from pyspark.ml.linalg import Vector \n",
    "from pyspark.ml.feature import VectorAssembler\n",
    "\n",
    "assembler = VectorAssembler(inputCols=['year', 'mileage', 'make_label', 'model_label'], outputCol=\"features\")\n",
    "\n"
   ]
  },
  {
   "cell_type": "code",
   "execution_count": 18,
   "id": "4054071c",
   "metadata": {},
   "outputs": [
    {
     "name": "stdout",
     "output_type": "stream",
     "text": [
      "+-----+----+-------+-----+------------+-----------+----------+\n",
      "|price|year|mileage| make|       model|model_label|make_label|\n",
      "+-----+----+-------+-----+------------+-----------+----------+\n",
      "| 8995|2013|  48851|Acura|  ILX6-Speed|     1611.0|      22.0|\n",
      "|13995|2013|  32384|Acura|  TSX5-Speed|      726.0|      22.0|\n",
      "|10495|2013|  57596|Acura|  ILX6-Speed|     1611.0|      22.0|\n",
      "|12921|2012|  58550|Acura|TSXAutomatic|      646.0|      22.0|\n",
      "|17628|2015|  13797|Acura|  ILX5-Speed|      300.0|      22.0|\n",
      "|13999|2013|  35035|Acura|  TSX5-Speed|      726.0|      22.0|\n",
      "|14995|2014|  23454|Acura|  ILX5-Speed|      300.0|      22.0|\n",
      "|14990|2015|  23603|Acura|  ILX5-Speed|      300.0|      22.0|\n",
      "|14590|2010|  19250|Acura|      TSX4dr|      431.0|      22.0|\n",
      "| 9500|2011|  68289|Acura|      TSX4dr|      431.0|      22.0|\n",
      "|16994|2015|  23946|Acura|  ILX5-Speed|      300.0|      22.0|\n",
      "|15499|2014|  27171|Acura|  TSX5-Speed|      726.0|      22.0|\n",
      "|13499|2014|  35037|Acura|  ILX5-Speed|      300.0|      22.0|\n",
      "|14999|2014|  17669|Acura|  ILX5-Speed|      300.0|      22.0|\n",
      "|14500|2010|  25926|Acura|      TSX4dr|      431.0|      22.0|\n",
      "|16000|2015|  30881|Acura|  ILX5-Speed|      300.0|      22.0|\n",
      "|17419|2015|  15390|Acura|  ILX5-Speed|      300.0|      22.0|\n",
      "|14999|2015|  27333|Acura|  ILX5-Speed|      300.0|      22.0|\n",
      "|14999|2015|  28326|Acura|  ILX5-Speed|      300.0|      22.0|\n",
      "|17000|2015|  24671|Acura|  ILX5-Speed|      300.0|      22.0|\n",
      "+-----+----+-------+-----+------------+-----------+----------+\n",
      "only showing top 20 rows\n",
      "\n"
     ]
    }
   ],
   "source": [
    "indexed2.show()"
   ]
  },
  {
   "cell_type": "code",
   "execution_count": 19,
   "id": "a841a0aa",
   "metadata": {},
   "outputs": [],
   "source": [
    "output=assembler.transform(indexed2)"
   ]
  },
  {
   "cell_type": "code",
   "execution_count": 20,
   "id": "194504da",
   "metadata": {},
   "outputs": [
    {
     "name": "stdout",
     "output_type": "stream",
     "text": [
      "+-----+----+-------+-----+------------+-----------+----------+----------------------------+\n",
      "|price|year|mileage|make |model       |model_label|make_label|features                    |\n",
      "+-----+----+-------+-----+------------+-----------+----------+----------------------------+\n",
      "|8995 |2013|48851  |Acura|ILX6-Speed  |1611.0     |22.0      |[2013.0,48851.0,22.0,1611.0]|\n",
      "|13995|2013|32384  |Acura|TSX5-Speed  |726.0      |22.0      |[2013.0,32384.0,22.0,726.0] |\n",
      "|10495|2013|57596  |Acura|ILX6-Speed  |1611.0     |22.0      |[2013.0,57596.0,22.0,1611.0]|\n",
      "|12921|2012|58550  |Acura|TSXAutomatic|646.0      |22.0      |[2012.0,58550.0,22.0,646.0] |\n",
      "|17628|2015|13797  |Acura|ILX5-Speed  |300.0      |22.0      |[2015.0,13797.0,22.0,300.0] |\n",
      "|13999|2013|35035  |Acura|TSX5-Speed  |726.0      |22.0      |[2013.0,35035.0,22.0,726.0] |\n",
      "|14995|2014|23454  |Acura|ILX5-Speed  |300.0      |22.0      |[2014.0,23454.0,22.0,300.0] |\n",
      "|14990|2015|23603  |Acura|ILX5-Speed  |300.0      |22.0      |[2015.0,23603.0,22.0,300.0] |\n",
      "|14590|2010|19250  |Acura|TSX4dr      |431.0      |22.0      |[2010.0,19250.0,22.0,431.0] |\n",
      "|9500 |2011|68289  |Acura|TSX4dr      |431.0      |22.0      |[2011.0,68289.0,22.0,431.0] |\n",
      "|16994|2015|23946  |Acura|ILX5-Speed  |300.0      |22.0      |[2015.0,23946.0,22.0,300.0] |\n",
      "|15499|2014|27171  |Acura|TSX5-Speed  |726.0      |22.0      |[2014.0,27171.0,22.0,726.0] |\n",
      "|13499|2014|35037  |Acura|ILX5-Speed  |300.0      |22.0      |[2014.0,35037.0,22.0,300.0] |\n",
      "|14999|2014|17669  |Acura|ILX5-Speed  |300.0      |22.0      |[2014.0,17669.0,22.0,300.0] |\n",
      "|14500|2010|25926  |Acura|TSX4dr      |431.0      |22.0      |[2010.0,25926.0,22.0,431.0] |\n",
      "|16000|2015|30881  |Acura|ILX5-Speed  |300.0      |22.0      |[2015.0,30881.0,22.0,300.0] |\n",
      "|17419|2015|15390  |Acura|ILX5-Speed  |300.0      |22.0      |[2015.0,15390.0,22.0,300.0] |\n",
      "|14999|2015|27333  |Acura|ILX5-Speed  |300.0      |22.0      |[2015.0,27333.0,22.0,300.0] |\n",
      "|14999|2015|28326  |Acura|ILX5-Speed  |300.0      |22.0      |[2015.0,28326.0,22.0,300.0] |\n",
      "|17000|2015|24671  |Acura|ILX5-Speed  |300.0      |22.0      |[2015.0,24671.0,22.0,300.0] |\n",
      "+-----+----+-------+-----+------------+-----------+----------+----------------------------+\n",
      "only showing top 20 rows\n",
      "\n"
     ]
    }
   ],
   "source": [
    "output.show(truncate=False)"
   ]
  },
  {
   "cell_type": "code",
   "execution_count": 21,
   "id": "a34d0845",
   "metadata": {},
   "outputs": [],
   "source": [
    "train_data, test_data = output.randomSplit([0.8, 0.2], seed=123)"
   ]
  },
  {
   "cell_type": "code",
   "execution_count": 22,
   "id": "ab9230f4",
   "metadata": {},
   "outputs": [],
   "source": [
    "# Create a RandomForestRegressor\n",
    "from pyspark.ml.regression import RandomForestRegressor\n",
    "rf_regressor = RandomForestRegressor(featuresCol=\"features\", labelCol=\"price\", numTrees=150, maxBins=3000)\n"
   ]
  },
  {
   "cell_type": "code",
   "execution_count": 23,
   "id": "5809e1aa",
   "metadata": {},
   "outputs": [],
   "source": [
    "rf_model = rf_regressor.fit(train_data)"
   ]
  },
  {
   "cell_type": "code",
   "execution_count": 24,
   "id": "7f3a1a34",
   "metadata": {},
   "outputs": [],
   "source": [
    "predictions = rf_model.transform(test_data)"
   ]
  },
  {
   "cell_type": "code",
   "execution_count": 25,
   "id": "40a66c96",
   "metadata": {},
   "outputs": [
    {
     "name": "stdout",
     "output_type": "stream",
     "text": [
      "Root Mean Squared Error (RMSE): 6353.793822417411\n"
     ]
    }
   ],
   "source": [
    "from pyspark.ml.evaluation import RegressionEvaluator\n",
    "\n",
    "evaluator = RegressionEvaluator(labelCol=\"price\", predictionCol=\"prediction\", metricName=\"rmse\")\n",
    "rmse = evaluator.evaluate(predictions)\n",
    "print(\"Root Mean Squared Error (RMSE):\", rmse)"
   ]
  },
  {
   "cell_type": "code",
   "execution_count": 26,
   "id": "80c14704",
   "metadata": {},
   "outputs": [
    {
     "name": "stdout",
     "output_type": "stream",
     "text": [
      "R-squared (R2): 0.7792687452839657\n"
     ]
    }
   ],
   "source": [
    "# R-squared (R2)\n",
    "r2 = evaluator.evaluate(predictions, {evaluator.metricName: \"r2\"})\n",
    "print(\"R-squared (R2):\", r2)"
   ]
  },
  {
   "cell_type": "code",
   "execution_count": null,
   "id": "c2332f3b",
   "metadata": {},
   "outputs": [],
   "source": []
  },
  {
   "cell_type": "markdown",
   "id": "b330c877",
   "metadata": {},
   "source": [
    "# transformations"
   ]
  },
  {
   "cell_type": "code",
   "execution_count": 29,
   "id": "5565b09f",
   "metadata": {},
   "outputs": [],
   "source": [
    "df=spark.read.table(\"cars\")"
   ]
  },
  {
   "cell_type": "code",
   "execution_count": 41,
   "id": "9976b79c",
   "metadata": {},
   "outputs": [],
   "source": [
    "df=df.dropna()"
   ]
  },
  {
   "cell_type": "code",
   "execution_count": 42,
   "id": "a2744fe3",
   "metadata": {},
   "outputs": [],
   "source": [
    "df1=df.orderBy(df.city.asc(),df.price.asc())"
   ]
  },
  {
   "cell_type": "code",
   "execution_count": 44,
   "id": "e1ec4a9a",
   "metadata": {},
   "outputs": [
    {
     "name": "stdout",
     "output_type": "stream",
     "text": [
      "+-----+----+-------+----------+-----+-----------------+-------------+---------------+\n",
      "|price|year|mileage|      city|state|              vin|         make|          model|\n",
      "+-----+----+-------+----------+-----+-----------------+-------------+---------------+\n",
      "|10339|2011| 102333|     AKRON|   OH|WDDGF8BB2BR150111|Mercedes-Benz|     C-Class4dr|\n",
      "|15889|2011|  92812|     AKRON|   OH|4JGBB8GB0BA681651|Mercedes-Benz|  M-Class4MATIC|\n",
      "|16999|2008|  39493|     AKRON|   OH|4JGBB22EX8A421443|Mercedes-Benz|     M-Class4WD|\n",
      "|17889|2011|  72832|     AKRON|   OH|WDDHF8HB4BA501126|Mercedes-Benz|     E-Class4dr|\n",
      "|23876|2013|  39961|     AKRON|   OH|WDCGG8JB1DG016238|Mercedes-Benz|GLK-ClassGLK350|\n",
      "|25229|2014|  66378|     AKRON|   OH|WDCGG8JB4EG326238|Mercedes-Benz|GLK-ClassGLK350|\n",
      "|26449|2004|  25403|     AKRON|   OH|WDBSK75F24F071548|Mercedes-Benz|  SL-ClassSL500|\n",
      "|33959|2014|  35461|     AKRON|   OH|4JGDA5HB1EA353653|Mercedes-Benz|   M-ClassML350|\n",
      "|35889|2015|  29610|     AKRON|   OH|WDCGG8JB8FG378795|Mercedes-Benz|GLK-ClassGLK350|\n",
      "| 4995|2004| 187317|ALEXANDRIA|   VA|2HKYF18534H553810|        Honda|        PilotEX|\n",
      "| 5795|2005| 180159|ALEXANDRIA|   VA|1HGCM66565A061282|        Honda|         Accord|\n",
      "| 5995|2005| 106412|ALEXANDRIA|   VA|JM1BK343151250325|        Mazda|      Mazda35dr|\n",
      "| 6795|2006|  54181|ALEXANDRIA|   VA|YV1MS390862216864|        Volvo|        S402.4L|\n",
      "| 8995|2012|  53308|ALEXANDRIA|   VA|1FAHP3N28CL408507|         Ford|       Focus5dr|\n",
      "| 8995|2010|  26345|ALEXANDRIA|   VA|KNAFW6A30A5256595|          Kia|          Forte|\n",
      "| 8995|2012|  83654|ALEXANDRIA|   VA|1YVHZ8DH7C5M35879|        Mazda|      Mazda64dr|\n",
      "| 9995|2013|  20871|ALEXANDRIA|   VA|1FADP3K21DL231433|         Ford| FocusHatchback|\n",
      "|11795|2014| 104369|ALEXANDRIA|   VA|JM3KE2CY6E0350691|        Mazda|    CX-5Touring|\n",
      "|11995|2015|  27124|ALEXANDRIA|   VA|3FADP4CJXFM216202|         Ford|    FiestaSedan|\n",
      "|12990|2008|  75210|ALEXANDRIA|   LA|WBAWB33548P135043|          BMW|              3|\n",
      "+-----+----+-------+----------+-----+-----------------+-------------+---------------+\n",
      "only showing top 20 rows\n",
      "\n"
     ]
    }
   ],
   "source": [
    "df1.show() #cities and price sorted in ascending order"
   ]
  },
  {
   "cell_type": "code",
   "execution_count": 56,
   "id": "c69308e7",
   "metadata": {},
   "outputs": [],
   "source": [
    "df1.coalesce(1).write.format(\"csv\").mode('overwrite').save(\"/user/talentum/tfm1\")"
   ]
  },
  {
   "cell_type": "code",
   "execution_count": 43,
   "id": "d0cc0650",
   "metadata": {},
   "outputs": [],
   "source": [
    "df2=df.groupBy(\"year\").count()"
   ]
  },
  {
   "cell_type": "code",
   "execution_count": 47,
   "id": "dc6e6d05",
   "metadata": {},
   "outputs": [
    {
     "name": "stdout",
     "output_type": "stream",
     "text": [
      "+----+------+\n",
      "|year| count|\n",
      "+----+------+\n",
      "|2018|   922|\n",
      "|2017| 91608|\n",
      "|2016|132136|\n",
      "|2015|157516|\n",
      "|2014|162432|\n",
      "|2013| 74701|\n",
      "|2012| 49764|\n",
      "|2011| 39768|\n",
      "|2010| 27539|\n",
      "|2009| 19061|\n",
      "|2008| 24713|\n",
      "|2007| 21171|\n",
      "|2006| 15079|\n",
      "|2005| 11005|\n",
      "|2004|  8117|\n",
      "|2003|  5649|\n",
      "|2002|  3800|\n",
      "|2001|  2584|\n",
      "|2000|  1933|\n",
      "|1999|  1254|\n",
      "+----+------+\n",
      "only showing top 20 rows\n",
      "\n"
     ]
    }
   ],
   "source": [
    "df2.sort(df.year.desc()).show() #yearly count of cars sold in descending order"
   ]
  },
  {
   "cell_type": "code",
   "execution_count": 57,
   "id": "688812e9",
   "metadata": {},
   "outputs": [],
   "source": [
    "df2.coalesce(1).write.format(\"csv\").mode('overwrite').save(\"/user/talentum/tfm2\")"
   ]
  },
  {
   "cell_type": "code",
   "execution_count": 50,
   "id": "52e79665",
   "metadata": {},
   "outputs": [
    {
     "name": "stdout",
     "output_type": "stream",
     "text": [
      "+-----------+------+\n",
      "|       make| count|\n",
      "+-----------+------+\n",
      "| Volkswagen| 23249|\n",
      "| Oldsmobile|   122|\n",
      "|         AM|    19|\n",
      "|      Lexus| 20641|\n",
      "|     Jaguar|  2200|\n",
      "|     Saturn|   963|\n",
      "|       FIAT|  1782|\n",
      "|   Maserati|  1047|\n",
      "|Rolls-Royce|    92|\n",
      "|      Scion|  3043|\n",
      "|       Jeep| 40373|\n",
      "| Mitsubishi|  4080|\n",
      "|        Kia| 28636|\n",
      "|  Chevrolet|102268|\n",
      "|      Volvo|  5106|\n",
      "|    Hyundai| 35837|\n",
      "|       Saab|   260|\n",
      "|      Honda| 50193|\n",
      "|   INFINITI| 12258|\n",
      "|       MINI|  4375|\n",
      "+-----------+------+\n",
      "only showing top 20 rows\n",
      "\n"
     ]
    }
   ],
   "source": [
    "df3=df.groupBy(\"make\").count()\n",
    "df3.show() "
   ]
  },
  {
   "cell_type": "code",
   "execution_count": 58,
   "id": "65e99020",
   "metadata": {},
   "outputs": [],
   "source": [
    "df3.coalesce(1).write.format(\"csv\").mode('overwrite').save(\"/user/talentum/tfm3\")"
   ]
  },
  {
   "cell_type": "code",
   "execution_count": 62,
   "id": "ab62a007",
   "metadata": {},
   "outputs": [],
   "source": [
    "df4=df.filter(df.city=='El Paso').groupBy(\"make\").count()"
   ]
  },
  {
   "cell_type": "code",
   "execution_count": 63,
   "id": "b8700d57",
   "metadata": {},
   "outputs": [
    {
     "name": "stdout",
     "output_type": "stream",
     "text": [
      "+----------+-----+\n",
      "|      make|count|\n",
      "+----------+-----+\n",
      "|Volkswagen|  100|\n",
      "|     Lexus|   34|\n",
      "|    Jaguar|    5|\n",
      "|    Saturn|    5|\n",
      "|      FIAT|   12|\n",
      "|  Maserati|    1|\n",
      "|     Scion|   12|\n",
      "|      Jeep|  193|\n",
      "|Mitsubishi|   15|\n",
      "|       Kia|   77|\n",
      "| Chevrolet|  475|\n",
      "|     Volvo|    2|\n",
      "|   Hyundai|  138|\n",
      "|     Honda|  184|\n",
      "|  INFINITI|   31|\n",
      "|      MINI|   19|\n",
      "|      Audi|   18|\n",
      "|       Ram|   66|\n",
      "|  Cadillac|   56|\n",
      "|   Pontiac|    6|\n",
      "+----------+-----+\n",
      "only showing top 20 rows\n",
      "\n"
     ]
    }
   ],
   "source": [
    "df4.show()"
   ]
  },
  {
   "cell_type": "code",
   "execution_count": 64,
   "id": "602e0044",
   "metadata": {},
   "outputs": [],
   "source": [
    "df4.coalesce(1).write.format(\"csv\").mode('overwrite').save(\"/user/talentum/tfm4\")"
   ]
  },
  {
   "cell_type": "code",
   "execution_count": null,
   "id": "73cd7c03",
   "metadata": {},
   "outputs": [],
   "source": []
  }
 ],
 "metadata": {
  "kernelspec": {
   "display_name": "Python 3",
   "language": "python",
   "name": "python3"
  },
  "language_info": {
   "codemirror_mode": {
    "name": "ipython",
    "version": 3
   },
   "file_extension": ".py",
   "mimetype": "text/x-python",
   "name": "python",
   "nbconvert_exporter": "python",
   "pygments_lexer": "ipython3",
   "version": "3.6.9"
  }
 },
 "nbformat": 4,
 "nbformat_minor": 5
}
